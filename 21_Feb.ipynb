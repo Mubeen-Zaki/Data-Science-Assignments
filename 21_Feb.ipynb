{
 "cells": [
  {
   "cell_type": "markdown",
   "id": "9be68175-8989-4ed7-ab21-9c94c3790a82",
   "metadata": {},
   "source": [
    "##### 1) Web Scraping : It is a technique to extract data from websites deployed on the internet.\n",
    "##### Use : It is used to collect data from different sources and get insights from it.\n",
    "##### Domains : SEO, Social Media Monitoring, price comparison, etc."
   ]
  },
  {
   "cell_type": "markdown",
   "id": "d3592bfd-e1cc-43f0-92b3-e8f8a08d76e2",
   "metadata": {},
   "source": [
    "##### 2) Methods used in Web Scraping:\n",
    "1. page = requests.get(url) #to get the HTTP response of the page\n",
    "2. text = page.text #to extract the HTML text from the page\n",
    "3. html = BeautifulSoup(text,'html.parser') #to beautify the html content using the parser"
   ]
  },
  {
   "cell_type": "markdown",
   "id": "0abf0cb9-9694-46b8-9418-c60cedd86738",
   "metadata": {},
   "source": [
    "##### 3) BeautifulSoup : It is a library from the module bs4 which contains multiple methods to scrap data from the HTTP request page text.\n",
    "##### Use : To beautify the content to make it human-readable upto an extent."
   ]
  },
  {
   "cell_type": "markdown",
   "id": "accc7656-e74a-4a95-b228-ead576fa25ba",
   "metadata": {},
   "source": [
    "##### 4) 'flask' is used in web scraping project so that the services/application running on the server machine are/is made accessible to the remote client machines / users through a URL. It creates APIs and allows communication between users and resources."
   ]
  },
  {
   "cell_type": "markdown",
   "id": "28b31322-4668-4249-885e-429b60fb41f7",
   "metadata": {},
   "source": [
    "##### 5) AWS Services Used & their Uses:\n",
    "1. CodePipeline : It creates a pipeline from the git repository hosted on GitHub to the CodePipeline instance and it is also used to make connection to the environment for hosting it.\n",
    "2. BeanStalk : It is a virtual machine which creates a customized environment along with providing computing resources such memory, CPU, etc."
   ]
  },
  {
   "cell_type": "code",
   "execution_count": null,
   "id": "067491c4-97dd-409b-a671-9c26e89fad7b",
   "metadata": {},
   "outputs": [],
   "source": []
  }
 ],
 "metadata": {
  "kernelspec": {
   "display_name": "Python 3 (ipykernel)",
   "language": "python",
   "name": "python3"
  },
  "language_info": {
   "codemirror_mode": {
    "name": "ipython",
    "version": 3
   },
   "file_extension": ".py",
   "mimetype": "text/x-python",
   "name": "python",
   "nbconvert_exporter": "python",
   "pygments_lexer": "ipython3",
   "version": "3.10.8"
  }
 },
 "nbformat": 4,
 "nbformat_minor": 5
}

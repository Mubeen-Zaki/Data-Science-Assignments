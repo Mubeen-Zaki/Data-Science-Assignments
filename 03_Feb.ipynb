{
 "cells": [
  {
   "cell_type": "code",
   "execution_count": 1,
   "id": "37b244b1-43b4-4c46-8ce9-b34e9869180f",
   "metadata": {},
   "outputs": [
    {
     "data": {
      "text/plain": [
       "[1, 3, 5, 7, 9, 11, 13, 15, 17, 19, 21, 23, 25]"
      ]
     },
     "execution_count": 1,
     "metadata": {},
     "output_type": "execute_result"
    }
   ],
   "source": [
    "# 1) 'def' keyword is used to create a function in python.\n",
    "# Code:\n",
    "def oddlist():\n",
    "    l = []\n",
    "    for i in range(1,26):\n",
    "        if i % 2 == 1:\n",
    "            l.append(i)\n",
    "    return l\n",
    "oddlist()"
   ]
  },
  {
   "cell_type": "code",
   "execution_count": 3,
   "id": "87a9ed65-4b80-4799-b44a-a1131897e1be",
   "metadata": {},
   "outputs": [
    {
     "name": "stdout",
     "output_type": "stream",
     "text": [
      "(1, 2, 3, [1, 2, 3], 'str', (6, 7, 8))\n"
     ]
    },
    {
     "data": {
      "text/plain": [
       "{'a': 'str', 'b': 1, 'c': [1, 2, 3]}"
      ]
     },
     "execution_count": 3,
     "metadata": {},
     "output_type": "execute_result"
    }
   ],
   "source": [
    "# 2) *args - It is used to pass any number of arguments to the functions as input. Ex:\n",
    "def test1(*args):\n",
    "    return args\n",
    "print(test1(1,2,3,[1,2,3],'str',(6,7,8)))\n",
    "# **kwargs - It is used to pass any number of key-value pairs / dict as args to the functions.\n",
    "def test2(**kwargs):\n",
    "    return kwargs\n",
    "test2(a = 'str', b = 1, c = [1,2,3])"
   ]
  },
  {
   "cell_type": "code",
   "execution_count": 4,
   "id": "ad3acb10-9342-4aed-9a2e-f8feb6d1ed88",
   "metadata": {},
   "outputs": [
    {
     "name": "stdout",
     "output_type": "stream",
     "text": [
      "2\n",
      "4\n",
      "6\n",
      "8\n",
      "10\n"
     ]
    }
   ],
   "source": [
    "# 3) An iterator is used to access one element of a data structure at a time in a sequence. Ex: It can be used to traverse through the elements of a list.\n",
    "# iter() - used to initialize iterator\n",
    "# next() - used for iterations\n",
    "# code:\n",
    "l = [2, 4, 6, 8, 10, 12, 14, 16, 18, 20]\n",
    "a = iter(l)\n",
    "for i in range(1,6):\n",
    "    print(next(a))"
   ]
  },
  {
   "cell_type": "code",
   "execution_count": 21,
   "id": "088e0232-e444-4287-a559-076dd5372166",
   "metadata": {},
   "outputs": [
    {
     "name": "stdout",
     "output_type": "stream",
     "text": [
      "2 4 6 8 10 "
     ]
    }
   ],
   "source": [
    "# 4) Generator Function - It is used to generate a particular sequence of values using the keyword 'yield'. Ex : range()\n",
    "# yield - It is used to return values in a generator function by interrupting the next instructions execution in the function. Ex:\n",
    "def even(n):\n",
    "    for i in range(1,n+1):\n",
    "        if i % 2 == 0:\n",
    "            yield i\n",
    "for i in even(10):\n",
    "    print(i, end=' ')"
   ]
  },
  {
   "cell_type": "code",
   "execution_count": 20,
   "id": "9a4d3b8d-40dc-4f43-9138-cea447c406a9",
   "metadata": {},
   "outputs": [
    {
     "name": "stdout",
     "output_type": "stream",
     "text": [
      "2 3 5 7 11 13 17 19 23 29 31 37 41 43 47 53 59 61 67 71 "
     ]
    }
   ],
   "source": [
    "# 5) Code:\n",
    "import math\n",
    "def prime():\n",
    "    for i in range(2,1000):\n",
    "        k = 0\n",
    "        for j in range(1,int(math.sqrt(i)) + 1): # prime optimization problem\n",
    "            if i % j == 0:\n",
    "                k = k + 1\n",
    "                if k > 1:\n",
    "                    break\n",
    "        if k == 1:\n",
    "            yield i        \n",
    "            \n",
    "a = iter(prime())\n",
    "for i in range(1,21):\n",
    "    print(next(a), end=' ')"
   ]
  },
  {
   "cell_type": "code",
   "execution_count": null,
   "id": "de7c42a8-51e9-4bf7-a7b0-a7562dc8112e",
   "metadata": {},
   "outputs": [],
   "source": []
  }
 ],
 "metadata": {
  "kernelspec": {
   "display_name": "Python 3 (ipykernel)",
   "language": "python",
   "name": "python3"
  },
  "language_info": {
   "codemirror_mode": {
    "name": "ipython",
    "version": 3
   },
   "file_extension": ".py",
   "mimetype": "text/x-python",
   "name": "python",
   "nbconvert_exporter": "python",
   "pygments_lexer": "ipython3",
   "version": "3.10.8"
  }
 },
 "nbformat": 4,
 "nbformat_minor": 5
}

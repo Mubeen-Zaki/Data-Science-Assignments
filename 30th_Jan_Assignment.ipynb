{
 "cells": [
  {
   "cell_type": "code",
   "execution_count": 4,
   "id": "fd0c910d-2969-48b4-b3c8-5affacf26f6a",
   "metadata": {},
   "outputs": [
    {
     "name": "stdin",
     "output_type": "stream",
     "text": [
      "Enter percentage :  95\n"
     ]
    },
    {
     "name": "stdout",
     "output_type": "stream",
     "text": [
      "A\n"
     ]
    }
   ],
   "source": [
    "# 1)\n",
    "percentage = float(input(\"Enter percentage : \"))\n",
    "if percentage > 90:\n",
    "    print(\"A\")\n",
    "elif percentage > 80 and percentage <= 90:\n",
    "    print(\"B\")\n",
    "elif percentage >= 60 and percentage <= 80:\n",
    "    print(\"C\")\n",
    "else:\n",
    "    print(\"D\")"
   ]
  },
  {
   "cell_type": "code",
   "execution_count": 5,
   "id": "f2807e7d-b1f3-456f-a8d6-b66eca13dc64",
   "metadata": {},
   "outputs": [
    {
     "name": "stdin",
     "output_type": "stream",
     "text": [
      "Enter cost price of bike 110000\n"
     ]
    },
    {
     "name": "stdout",
     "output_type": "stream",
     "text": [
      "16500.0\n"
     ]
    }
   ],
   "source": [
    "# 2)\n",
    "cost = int(input(\"Enter cost price of bike\"))\n",
    "if cost > 100000:\n",
    "    print(cost * 0.15)\n",
    "elif cost > 50000 and cost <= 100000:\n",
    "    print(cost * 0.1)\n",
    "else:\n",
    "    print(cost * 0.05)"
   ]
  },
  {
   "cell_type": "code",
   "execution_count": 6,
   "id": "40afc2b3-c7c1-45d6-add3-bdbb6fb500da",
   "metadata": {},
   "outputs": [
    {
     "name": "stdin",
     "output_type": "stream",
     "text": [
      "Enter city :  delhi\n"
     ]
    },
    {
     "name": "stdout",
     "output_type": "stream",
     "text": [
      "Red Fort\n"
     ]
    }
   ],
   "source": [
    "# 3)\n",
    "city = input(\"Enter city : \")\n",
    "if city.title() == \"Delhi\":\n",
    "    print(\"Red Fort\")\n",
    "elif city.title() == \"Agra\":\n",
    "    print(\"Taj Mahal\")\n",
    "elif city.title() == \"Jaipur\":\n",
    "    print(\"Jal Mahal\")"
   ]
  },
  {
   "cell_type": "code",
   "execution_count": 7,
   "id": "cd1ba578-e43e-45db-982a-22d033aee8be",
   "metadata": {},
   "outputs": [
    {
     "name": "stdin",
     "output_type": "stream",
     "text": [
      "Enter no.: 15\n"
     ]
    },
    {
     "name": "stdout",
     "output_type": "stream",
     "text": [
      "1\n"
     ]
    }
   ],
   "source": [
    "# 4)\n",
    "number = int(input(\"Enter no.:\"))\n",
    "count = 0\n",
    "while number > 10:\n",
    "    number = number // 3\n",
    "    count += 1\n",
    "print(count)"
   ]
  },
  {
   "cell_type": "code",
   "execution_count": 8,
   "id": "41533b5d-d718-472f-8369-bbe03990c1bf",
   "metadata": {},
   "outputs": [
    {
     "name": "stdin",
     "output_type": "stream",
     "text": [
      "Enter no.: 21\n"
     ]
    },
    {
     "name": "stdout",
     "output_type": "stream",
     "text": [
      "1\n"
     ]
    }
   ],
   "source": [
    "# 5)\n",
    "''' \n",
    "-> while loops are used when the number of iterations are not clear as it\n",
    "is in the case of for loop.\n",
    "-> They are used to carry out iterations which are uncertain before execution \n",
    "and solely depends on the condition specified for the loop\n",
    "-> Ex :\n",
    "Taking a number from the user as input and counting the number of times it can \n",
    "be divided by 3 before it is less than or equal to 3.\n",
    "Here we use while loop as the number of iterations are not known. Only the test\n",
    "condition is known. '''\n",
    "number = int(input(\"Enter no.:\"))\n",
    "count = 0\n",
    "while number > 10:\n",
    "    number = number // 3\n",
    "    count += 1\n",
    "print(count)"
   ]
  },
  {
   "cell_type": "code",
   "execution_count": 14,
   "id": "b2be0d7e-5cb2-483d-8b8e-f38cb1f2ab70",
   "metadata": {},
   "outputs": [
    {
     "name": "stdin",
     "output_type": "stream",
     "text": [
      " 4\n"
     ]
    },
    {
     "name": "stdout",
     "output_type": "stream",
     "text": [
      "****\n",
      "***\n",
      "**\n",
      "*\n"
     ]
    }
   ],
   "source": [
    "# 6)\n",
    "n = int(input())\n",
    "while n > 0:\n",
    "    i = n\n",
    "    while i > 0:\n",
    "        print('*',end='')\n",
    "        i -= 1\n",
    "    print()\n",
    "    n -= 1"
   ]
  },
  {
   "cell_type": "code",
   "execution_count": 30,
   "id": "663516fe-f6c5-4898-b673-2adc81f71426",
   "metadata": {},
   "outputs": [
    {
     "name": "stdin",
     "output_type": "stream",
     "text": [
      " 4\n"
     ]
    },
    {
     "name": "stdout",
     "output_type": "stream",
     "text": [
      "*\n",
      "*\n",
      "*\n",
      "*\n",
      "\n",
      "*\n",
      "*\n",
      "*\n",
      "\n",
      "*\n",
      "*\n",
      "\n",
      "*\n",
      "\n"
     ]
    }
   ],
   "source": [
    "n = int(input())\n",
    "while n > 0:\n",
    "    i = 0\n",
    "    while i < n:\n",
    "        print('*')\n",
    "        i += 1\n",
    "    print()\n",
    "    n -= 1"
   ]
  },
  {
   "cell_type": "code",
   "execution_count": 36,
   "id": "1fbb1d01-ca4e-4f7a-87a0-4b38493c09f1",
   "metadata": {},
   "outputs": [
    {
     "name": "stdin",
     "output_type": "stream",
     "text": [
      " 4\n"
     ]
    },
    {
     "name": "stdout",
     "output_type": "stream",
     "text": [
      "    * \n",
      "   * * \n",
      "  * * * \n",
      " * * * * \n"
     ]
    }
   ],
   "source": [
    "n = int(input())\n",
    "for i in range(1,n+1):\n",
    "    print(' '*n,end='')\n",
    "    print('* '*i)\n",
    "    n -= 1"
   ]
  },
  {
   "cell_type": "code",
   "execution_count": 37,
   "id": "5b9217ed-2ad9-42f3-8512-0cfb5f83535b",
   "metadata": {},
   "outputs": [
    {
     "name": "stdout",
     "output_type": "stream",
     "text": [
      "10\n",
      "9\n",
      "8\n",
      "7\n",
      "6\n",
      "5\n",
      "4\n",
      "3\n",
      "2\n",
      "1\n"
     ]
    }
   ],
   "source": [
    "# 7) \n",
    "n = 10\n",
    "while n > 0:\n",
    "    print(n)\n",
    "    n -= 1"
   ]
  },
  {
   "cell_type": "code",
   "execution_count": 38,
   "id": "500d3b11-ecf8-42eb-a858-117171dff891",
   "metadata": {},
   "outputs": [
    {
     "name": "stdout",
     "output_type": "stream",
     "text": [
      "10\n",
      "9\n",
      "8\n",
      "7\n",
      "6\n",
      "5\n",
      "4\n",
      "3\n",
      "2\n",
      "1\n"
     ]
    }
   ],
   "source": [
    "# 8) \n",
    "n = 10\n",
    "while n > 0:\n",
    "    print(n)\n",
    "    n -= 1"
   ]
  },
  {
   "cell_type": "code",
   "execution_count": null,
   "id": "34846923-7539-4f73-a063-7c47dd2a23dc",
   "metadata": {},
   "outputs": [],
   "source": []
  }
 ],
 "metadata": {
  "kernelspec": {
   "display_name": "Python 3 (ipykernel)",
   "language": "python",
   "name": "python3"
  },
  "language_info": {
   "codemirror_mode": {
    "name": "ipython",
    "version": 3
   },
   "file_extension": ".py",
   "mimetype": "text/x-python",
   "name": "python",
   "nbconvert_exporter": "python",
   "pygments_lexer": "ipython3",
   "version": "3.10.8"
  }
 },
 "nbformat": 4,
 "nbformat_minor": 5
}

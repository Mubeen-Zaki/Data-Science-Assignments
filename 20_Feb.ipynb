{
 "cells": [
  {
   "cell_type": "markdown",
   "id": "b87ec24e-a471-4410-a617-8445416be41d",
   "metadata": {},
   "source": [
    "##### 1) GET Methods: These are HTTP methods which are used to get the arguments for the function running on the server machine from the URL.\n",
    "##### POST Methods: These are HTTP methods which are used to retrieve the args for the function running on the server machine from the HTML form which is a more secure way than GET methods."
   ]
  },
  {
   "cell_type": "markdown",
   "id": "e7051822-bc83-400e-9294-ca961a0cb0d1",
   "metadata": {},
   "source": [
    "##### 2) 'request' is a module in the flask framework which allows to implement the HTTP methods to get the data from URLs(get), forms(POST), etc."
   ]
  },
  {
   "cell_type": "markdown",
   "id": "f4f9a212-669d-48a5-a5f7-7b033818b37d",
   "metadata": {},
   "source": [
    "##### 3) redirect() in flask allows to redirect the clients to different URLs and also specify the status codes."
   ]
  },
  {
   "cell_type": "markdown",
   "id": "4f48593e-87f6-4af8-96a8-ed446f841c09",
   "metadata": {},
   "source": [
    "##### 4) templates: It is a directory consisting of the front-end files(HTML pages).\n",
    "##### render_template(): Function to run the HTML pages/UI integrated with the back-end code."
   ]
  },
  {
   "cell_type": "code",
   "execution_count": null,
   "id": "ed1efbc4-a0e4-46d7-8fe1-aa0da6850f4b",
   "metadata": {},
   "outputs": [],
   "source": []
  }
 ],
 "metadata": {
  "kernelspec": {
   "display_name": "Python 3 (ipykernel)",
   "language": "python",
   "name": "python3"
  },
  "language_info": {
   "codemirror_mode": {
    "name": "ipython",
    "version": 3
   },
   "file_extension": ".py",
   "mimetype": "text/x-python",
   "name": "python",
   "nbconvert_exporter": "python",
   "pygments_lexer": "ipython3",
   "version": "3.10.8"
  }
 },
 "nbformat": 4,
 "nbformat_minor": 5
}

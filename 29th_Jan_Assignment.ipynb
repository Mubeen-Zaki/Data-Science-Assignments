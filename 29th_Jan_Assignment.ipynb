{
 "cells": [
  {
   "cell_type": "markdown",
   "id": "b0be5079-a7be-469a-ba77-a612210eece0",
   "metadata": {},
   "source": [
    "# Assignment Answers:"
   ]
  },
  {
   "cell_type": "markdown",
   "id": "108577c2-a3ee-4f07-a7ff-69dcf2995c0b",
   "metadata": {},
   "source": [
    "1) Guido van Rossum\n",
    "2) Python supports procedural, functional, object-oriented and dynamic typed programming\n",
    "3) Yes\n",
    "4) .py\n",
    "5) Interpreted\n",
    "6) functions and classes\n",
    "7) '#' (hashtag)\n",
    "8) sys.version, python_version() and command lines like python --version\n",
    "9) lambda \n",
    "10) 'pip installs packages'\n",
    "11) type(), int(), str(), float(), bool(), len(),etc\n",
    "12) 79 characters\n",
    "13) (i) Easy syntax (English-like)\n",
    "    (ii) Interpreted language\n",
    "    (iii) Fast\n",
    "    (iv) Enormous support of libraries\n",
    "    (v) Covers various domains ranging from web dev to data science.\n",
    "14) Memory is categorized into 2 types :\n",
    "    (i) Stack (ii) Heap\n",
    "    All the reference variables i.e., identifiers are stored in stack and all \n",
    "    the actual objects are stored in heap. \n",
    "    When no reference variable is pointing to the object in heap then it is \n",
    "    removed from memory and the process is called 'Garbage Collection'\n",
    "15) It can be downloaded from https://www.python.org/ within the downloads\n",
    "    section and using system environment variables the path can be set for \n",
    "    the local pc\n",
    "16) Yes"
   ]
  },
  {
   "cell_type": "code",
   "execution_count": null,
   "id": "bbd0988f-f72c-4c12-8179-6ddd72fc53a4",
   "metadata": {},
   "outputs": [],
   "source": []
  }
 ],
 "metadata": {
  "kernelspec": {
   "display_name": "Python 3 (ipykernel)",
   "language": "python",
   "name": "python3"
  },
  "language_info": {
   "codemirror_mode": {
    "name": "ipython",
    "version": 3
   },
   "file_extension": ".py",
   "mimetype": "text/x-python",
   "name": "python",
   "nbconvert_exporter": "python",
   "pygments_lexer": "ipython3",
   "version": "3.10.8"
  }
 },
 "nbformat": 4,
 "nbformat_minor": 5
}

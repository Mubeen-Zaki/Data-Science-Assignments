{
 "cells": [
  {
   "cell_type": "markdown",
   "id": "feb634b3-a8dc-4e0b-a281-3012015291b2",
   "metadata": {},
   "source": [
    "### 1) Tuples are ordered collection of heterogenous data elements (like int, float, str, list, tuples(multi-nested tuples), complex, bool, dict,etc) which can be accessed using indexing operations and its main characteristic and differentiating factor from list is 'Immutability'"
   ]
  },
  {
   "cell_type": "code",
   "execution_count": 12,
   "id": "f3d19b31-e769-4624-ad6f-ff77085f2fd1",
   "metadata": {},
   "outputs": [
    {
     "name": "stdout",
     "output_type": "stream",
     "text": [
      "0\n",
      "1\n"
     ]
    }
   ],
   "source": [
    "# 2) Two tuple methods are : count(), index()\n",
    "# Ex : index():\n",
    "t = (1,2,4,5)\n",
    "print(t.index(1))\n",
    "# Ex : count():\n",
    "print(t.count(1))\n",
    "\n",
    "# Reason : Most of the Built in methods for lists to modify the lists which makes object assignments. Since tuples are immutable there are only 2 methods provided used for accessing and counting the values."
   ]
  },
  {
   "cell_type": "code",
   "execution_count": 13,
   "id": "8a24074d-8034-4e33-b7ff-f4bd97557662",
   "metadata": {},
   "outputs": [
    {
     "data": {
      "text/plain": [
       "{1, 2, 3, 4}"
      ]
     },
     "execution_count": 13,
     "metadata": {},
     "output_type": "execute_result"
    }
   ],
   "source": [
    "# 3) Set is the data structure that does not allow duplicate data elements in it.\n",
    "# code:\n",
    "List = [1, 1, 1, 2, 1, 3, 1, 4, 2, 1, 2, 2, 2, 3, 2, 4, 3, 1, 3, 2, 3, 3, 3, 4, 4, 1, 4, 2, 4, 3, 4, 4]\n",
    "s = set(List)\n",
    "s"
   ]
  },
  {
   "cell_type": "code",
   "execution_count": 17,
   "id": "0a44d7db-0e62-42c9-aa55-acaec2296367",
   "metadata": {},
   "outputs": [
    {
     "data": {
      "text/plain": [
       "{1, 2, 3, 4, 5, 6}"
      ]
     },
     "execution_count": 17,
     "metadata": {},
     "output_type": "execute_result"
    }
   ],
   "source": [
    "# 4) union() - It performs union operation of two sets and gives the set which elements of both the sets.\n",
    "# Ex:\n",
    "s1 = {1,2,3,4}\n",
    "s2 = {3,4,5,6}\n",
    "s = s1.union(s2)\n",
    "s\n",
    "# update() - Whereas this function performs an operation on a set which finds out if theres a missing element in the 1st set from the 2nd set and adds it to the 1st set\n",
    "s1.update(s2)\n",
    "s1"
   ]
  },
  {
   "cell_type": "code",
   "execution_count": 20,
   "id": "a51dc0ad-def8-4fd7-bc05-c46e39878618",
   "metadata": {},
   "outputs": [
    {
     "data": {
      "text/plain": [
       "dict"
      ]
     },
     "execution_count": 20,
     "metadata": {},
     "output_type": "execute_result"
    }
   ],
   "source": [
    "# 5) Dictionary is a collection of key-value pairs with unique keys.\n",
    "# Ex:\n",
    "d = {1:2,3:4,5:6}\n",
    "d\n",
    "type(d)\n",
    "# It is ordered but can be accessed using keys instead of indices"
   ]
  },
  {
   "cell_type": "code",
   "execution_count": 21,
   "id": "fe5f2078-44b1-47be-8b82-32d166c46c03",
   "metadata": {},
   "outputs": [
    {
     "data": {
      "text/plain": [
       "5"
      ]
     },
     "execution_count": 21,
     "metadata": {},
     "output_type": "execute_result"
    }
   ],
   "source": [
    "# 6) Yes, we can. Ex:\n",
    "d = {1:{2:3,4:5},'a':[7,6]}\n",
    "d[1][4]"
   ]
  },
  {
   "cell_type": "code",
   "execution_count": 27,
   "id": "826776bc-17d8-49af-9494-911787116f2d",
   "metadata": {},
   "outputs": [
    {
     "data": {
      "text/plain": [
       "{'topics': ['Python', 'Machine Learning', 'Deep Learning']}"
      ]
     },
     "execution_count": 27,
     "metadata": {},
     "output_type": "execute_result"
    }
   ],
   "source": [
    "# 7)\n",
    "d = {}\n",
    "d.setdefault('topics',['Python','Machine Learning','Deep Learning'])\n",
    "d"
   ]
  },
  {
   "cell_type": "code",
   "execution_count": 30,
   "id": "28e553d5-4dba-49a2-ba2a-aedd845a9a1d",
   "metadata": {},
   "outputs": [
    {
     "name": "stdout",
     "output_type": "stream",
     "text": [
      "dict_keys(['Sport', 'Teams'])\n",
      "dict_values(['Cricket', ['India', 'Australia', 'England', 'South Africa', 'Sri Lanka', 'New Zealand']])\n",
      "dict_items([('Sport', 'Cricket'), ('Teams', ['India', 'Australia', 'England', 'South Africa', 'Sri Lanka', 'New Zealand'])])\n"
     ]
    }
   ],
   "source": [
    "# 8) keys(),values() and items()\n",
    "dict1 = {'Sport': 'Cricket' , 'Teams': ['India', 'Australia', 'England', 'South Africa', 'Sri Lanka', 'New Zealand']}\n",
    "print(dict1.keys())\n",
    "print(dict1.values())\n",
    "print(dict1.items())"
   ]
  },
  {
   "cell_type": "code",
   "execution_count": null,
   "id": "4f6c7806-00b4-4639-a57d-7cb4d0b8dc83",
   "metadata": {},
   "outputs": [],
   "source": []
  }
 ],
 "metadata": {
  "kernelspec": {
   "display_name": "Python 3 (ipykernel)",
   "language": "python",
   "name": "python3"
  },
  "language_info": {
   "codemirror_mode": {
    "name": "ipython",
    "version": 3
   },
   "file_extension": ".py",
   "mimetype": "text/x-python",
   "name": "python",
   "nbconvert_exporter": "python",
   "pygments_lexer": "ipython3",
   "version": "3.10.8"
  }
 },
 "nbformat": 4,
 "nbformat_minor": 5
}

{
 "cells": [
  {
   "cell_type": "markdown",
   "id": "215c18ec-980d-4f5b-a964-00d786208606",
   "metadata": {},
   "source": [
    "##### 1) Exception : It is a run-time error usually generated due to the invalid input or the missing deployment components.\n",
    "##### Difference from Syntax Error : Unlike syntax error which are generated due to the incorrect syntax (of the language) written in the code, it is syntactically correct but raised due to the invalid inputs or missing components"
   ]
  },
  {
   "cell_type": "markdown",
   "id": "63fc73e1-2b2d-4819-ad29-924044ae613c",
   "metadata": {},
   "source": [
    "##### 2) When an exception is not handled, the whole program after the statement which has raised exception is not executed and is interrupted. Ex:"
   ]
  },
  {
   "cell_type": "code",
   "execution_count": 1,
   "id": "08fb779b-2d2f-4b0b-971e-11da89d85b80",
   "metadata": {},
   "outputs": [
    {
     "name": "stdout",
     "output_type": "stream",
     "text": [
      "Hello\n"
     ]
    },
    {
     "ename": "ZeroDivisionError",
     "evalue": "division by zero",
     "output_type": "error",
     "traceback": [
      "\u001b[0;31m---------------------------------------------------------------------------\u001b[0m",
      "\u001b[0;31mZeroDivisionError\u001b[0m                         Traceback (most recent call last)",
      "Cell \u001b[0;32mIn[1], line 2\u001b[0m\n\u001b[1;32m      1\u001b[0m \u001b[38;5;28mprint\u001b[39m(\u001b[38;5;124m\"\u001b[39m\u001b[38;5;124mHello\u001b[39m\u001b[38;5;124m\"\u001b[39m)\n\u001b[0;32m----> 2\u001b[0m \u001b[38;5;28mprint\u001b[39m(\u001b[38;5;241;43m1\u001b[39;49m\u001b[43m \u001b[49m\u001b[38;5;241;43m/\u001b[39;49m\u001b[43m \u001b[49m\u001b[38;5;241;43m0\u001b[39;49m) \u001b[38;5;66;03m# exception\u001b[39;00m\n\u001b[1;32m      3\u001b[0m \u001b[38;5;28mprint\u001b[39m(\u001b[38;5;124m\"\u001b[39m\u001b[38;5;124mBye\u001b[39m\u001b[38;5;124m\"\u001b[39m) \u001b[38;5;66;03m# won't be executed\u001b[39;00m\n",
      "\u001b[0;31mZeroDivisionError\u001b[0m: division by zero"
     ]
    }
   ],
   "source": [
    "print(\"Hello\")\n",
    "print(1 / 0) # exception\n",
    "print(\"Bye\") # won't be executed"
   ]
  },
  {
   "cell_type": "markdown",
   "id": "f618abb7-1641-4b95-a0bd-99f131fa2f23",
   "metadata": {},
   "source": [
    "##### 3) Exception Handling : \n",
    "##### (i) try: in this block the code which might generate run time errs is written, this catches the exception and throws it to the 'except' block to handle it\n",
    "##### (ii) except : Handles the exception.\n",
    "##### Ex:"
   ]
  },
  {
   "cell_type": "code",
   "execution_count": 2,
   "id": "c1416b2c-7bea-4c4b-a525-649a5e8cb83e",
   "metadata": {},
   "outputs": [
    {
     "name": "stdin",
     "output_type": "stream",
     "text": [
      "Enter no: 0\n"
     ]
    },
    {
     "name": "stdout",
     "output_type": "stream",
     "text": [
      "integer division or modulo by zero\n",
      "Hello world!\n"
     ]
    }
   ],
   "source": [
    "try:\n",
    "    num = int(input(\"Enter no:\"))\n",
    "    print(1 // num)\n",
    "except Exception as e:\n",
    "    print(e)\n",
    "print(\"Hello world!\")"
   ]
  },
  {
   "cell_type": "code",
   "execution_count": 1,
   "id": "709ce8d2-6336-4c55-9b75-1a7fd7191b1b",
   "metadata": {},
   "outputs": [
    {
     "name": "stdin",
     "output_type": "stream",
     "text": [
      "Enter no: 2\n"
     ]
    },
    {
     "name": "stdout",
     "output_type": "stream",
     "text": [
      "0\n",
      "This executes if try doesn't catch any exception\n"
     ]
    }
   ],
   "source": [
    "# 4) (i) try-else:\n",
    "try:\n",
    "    num = int(input(\"Enter no:\"))\n",
    "    print(1 // num)\n",
    "except Exception as e:\n",
    "    print(e)\n",
    "else:\n",
    "    print(\"This executes if try doesn't catch any exception\")"
   ]
  },
  {
   "cell_type": "code",
   "execution_count": 2,
   "id": "4b917ae4-10bf-44ad-ba62-cff8514d6719",
   "metadata": {},
   "outputs": [
    {
     "name": "stdin",
     "output_type": "stream",
     "text": [
      "Enter no: 5\n"
     ]
    },
    {
     "name": "stdout",
     "output_type": "stream",
     "text": [
      "0\n",
      "This executes if try doesn't catch any exception\n",
      "This executes irrespective of anything i.e., in both the cases of catchinng and not catching an exception\n"
     ]
    }
   ],
   "source": [
    "#(ii finally)\n",
    "try:\n",
    "    num = int(input(\"Enter no:\"))\n",
    "    print(1 // num)\n",
    "except Exception as e:\n",
    "    print(e)\n",
    "else:\n",
    "    print(\"This executes if try doesn't catch any exception\")\n",
    "finally:\n",
    "    print(\"This executes irrespective of anything i.e., in both the cases of catchinng and not catching an exception\")"
   ]
  },
  {
   "cell_type": "code",
   "execution_count": 3,
   "id": "f4d16242-af4e-4d61-817f-c4a1538136f7",
   "metadata": {},
   "outputs": [],
   "source": [
    "#(iii) raise:\n",
    "class Loan(Exception):\n",
    "    def __init__(self,msg):\n",
    "        self.msg = msg"
   ]
  },
  {
   "cell_type": "code",
   "execution_count": 4,
   "id": "f251bb78-08ba-413d-9c90-6c7c045765ed",
   "metadata": {},
   "outputs": [],
   "source": [
    "def eligibility(sal):\n",
    "    if sal < 30000:\n",
    "        raise Loan(\"Not eligible\")\n",
    "    else:\n",
    "        print(\"Eligible\")"
   ]
  },
  {
   "cell_type": "code",
   "execution_count": 7,
   "id": "550cce8b-9354-458d-ab64-6812fb9ab64c",
   "metadata": {},
   "outputs": [
    {
     "name": "stdin",
     "output_type": "stream",
     "text": [
      " 25000\n"
     ]
    },
    {
     "name": "stdout",
     "output_type": "stream",
     "text": [
      "Exception :  Not eligible\n",
      "Visit nearby branch for more details\n"
     ]
    }
   ],
   "source": [
    "try:\n",
    "    sal = int(input())\n",
    "    eligibility(sal)\n",
    "except Loan as e:\n",
    "    print(\"Exception : \", e)\n",
    "else:\n",
    "    print(\"You can take a loan upto 10L\")\n",
    "finally:\n",
    "    print(\"Visit nearby branch for more details\")"
   ]
  },
  {
   "cell_type": "markdown",
   "id": "e318dd30-7d1d-4876-92eb-6e6e011c9d61",
   "metadata": {},
   "source": [
    "##### 5) Custom Exceptions: These are the specific conditions that are not expected in context of a usecase and generates runtime/semantical errors. Ex:"
   ]
  },
  {
   "cell_type": "code",
   "execution_count": 8,
   "id": "b1e8c4e8-c1cf-4b1d-a1e0-7157764c92dd",
   "metadata": {},
   "outputs": [
    {
     "name": "stdin",
     "output_type": "stream",
     "text": [
      " 28000\n"
     ]
    },
    {
     "name": "stdout",
     "output_type": "stream",
     "text": [
      "Exception :  Not eligible\n",
      "Visit nearby branch for more details\n"
     ]
    }
   ],
   "source": [
    "class Loan(Exception):\n",
    "    def __init__(self,msg):\n",
    "        self.msg = msg\n",
    "\n",
    "def eligibility(sal):\n",
    "    if sal < 30000:\n",
    "        raise Loan(\"Not eligible\")\n",
    "    else:\n",
    "        print(\"Eligible\")\n",
    "        \n",
    "try:\n",
    "    sal = int(input())\n",
    "    eligibility(sal)\n",
    "except Loan as e:\n",
    "    print(\"Exception : \", e)\n",
    "else:\n",
    "    print(\"You can take a loan upto 10L\")\n",
    "finally:\n",
    "    print(\"Visit nearby branch for more details\")"
   ]
  },
  {
   "cell_type": "code",
   "execution_count": 11,
   "id": "244b1c55-ca33-4e23-86f7-d0952baf66a2",
   "metadata": {},
   "outputs": [],
   "source": [
    "#6):\n",
    "class Election(Exception):\n",
    "    def __init__(self,msg):\n",
    "        self.msg = msg"
   ]
  },
  {
   "cell_type": "code",
   "execution_count": 20,
   "id": "df2f4737-4a21-4c7d-8022-46e01d8ab048",
   "metadata": {},
   "outputs": [],
   "source": [
    "def vote_eligibility(age):\n",
    "    if age < 18 and age > 0:\n",
    "        raise Election(\"Not Eligible, you are underage!\")\n",
    "    elif age < 0 or age >= 200:\n",
    "        raise Election(\"Enter valid age\")\n",
    "    else:\n",
    "        print(\"Eligible\")"
   ]
  },
  {
   "cell_type": "code",
   "execution_count": 21,
   "id": "75b84159-c4e7-4b54-9760-1305eb0984fc",
   "metadata": {},
   "outputs": [
    {
     "name": "stdin",
     "output_type": "stream",
     "text": [
      " 17\n"
     ]
    },
    {
     "name": "stdout",
     "output_type": "stream",
     "text": [
      "Exception :  Not Eligible, you are underage!\n",
      "It is the responsibility of every eligible citizen to vote in their constituency\n"
     ]
    }
   ],
   "source": [
    "try:\n",
    "    age = int(input())\n",
    "    vote_eligibility(age)\n",
    "\n",
    "except Election as e:\n",
    "    print(\"Exception : \",e)\n",
    "\n",
    "else:\n",
    "    print(\"You may proceed to vote\")\n",
    "\n",
    "finally:\n",
    "    print(\"It is the responsibility of every eligible citizen to vote in their constituency\")"
   ]
  },
  {
   "cell_type": "code",
   "execution_count": null,
   "id": "f1d75f46-638a-450b-a26a-34d92807bd4b",
   "metadata": {},
   "outputs": [],
   "source": []
  }
 ],
 "metadata": {
  "kernelspec": {
   "display_name": "Python 3 (ipykernel)",
   "language": "python",
   "name": "python3"
  },
  "language_info": {
   "codemirror_mode": {
    "name": "ipython",
    "version": 3
   },
   "file_extension": ".py",
   "mimetype": "text/x-python",
   "name": "python",
   "nbconvert_exporter": "python",
   "pygments_lexer": "ipython3",
   "version": "3.10.8"
  }
 },
 "nbformat": 4,
 "nbformat_minor": 5
}

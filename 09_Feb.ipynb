{
 "cells": [
  {
   "cell_type": "markdown",
   "id": "fdae2eff-fe4d-42e2-a347-e3e12c61c057",
   "metadata": {},
   "source": [
    "##### Create a vehicle class with an init method having instance variables as name_of_vehicle, max_speed and average_of_vehicle."
   ]
  },
  {
   "cell_type": "code",
   "execution_count": 2,
   "id": "3d1edcfd-b1c3-4a59-ab80-089aa0f2aab7",
   "metadata": {},
   "outputs": [],
   "source": [
    "class vehicle:\n",
    "    def __init__(self,name_of_vehicle,max_speed,average_of_vehicle):\n",
    "        self.name_of_vehicle = name_of_vehicle\n",
    "        self.max_speed = max_speed\n",
    "        self.average_of_vehicle = average_of_vehicle"
   ]
  },
  {
   "cell_type": "markdown",
   "id": "a8062140-2fa8-4b4c-bd56-c6297943175b",
   "metadata": {},
   "source": [
    "##### Create a child class car from the vehicle class created in Que 1, which will inherit the vehicle class.Create a method named seating_capacity which takes capacity as an argument and returns the name of the vehicle and its seating capacity."
   ]
  },
  {
   "cell_type": "code",
   "execution_count": 3,
   "id": "5bfc3a7a-cd11-4466-a899-f0e6e6c7d07b",
   "metadata": {},
   "outputs": [],
   "source": [
    "class car(vehicle):\n",
    "    def seating_capacity(self,capacity):\n",
    "        self.capacity = capacity\n",
    "        return self.name_of_vehicle,self.capacity"
   ]
  },
  {
   "cell_type": "markdown",
   "id": "3e776bba-c9f2-4783-987b-3fef356ef476",
   "metadata": {},
   "source": [
    "##### What is multiple inheritance? Write a python code to demonstrate multiple inheritance.\n",
    "\n",
    "##### It is achieved when one class inherits properties from multiple classes."
   ]
  },
  {
   "cell_type": "code",
   "execution_count": 4,
   "id": "9dc30399-ee4f-4d0b-844c-a4dd85351b43",
   "metadata": {},
   "outputs": [],
   "source": [
    "# Ex :\n",
    "class a:\n",
    "    def a_method(self):\n",
    "        return \"hello\"\n",
    "class b:\n",
    "    def b_method(self):\n",
    "        return \"world\"\n",
    "class c(a,b):\n",
    "    pass"
   ]
  },
  {
   "cell_type": "code",
   "execution_count": 5,
   "id": "09b37196-8b38-454b-8ad1-35d20bce0db2",
   "metadata": {},
   "outputs": [],
   "source": [
    "obj = c()"
   ]
  },
  {
   "cell_type": "code",
   "execution_count": 6,
   "id": "597efb8f-3c9d-4640-bef7-38da7b9d9033",
   "metadata": {},
   "outputs": [
    {
     "data": {
      "text/plain": [
       "'world'"
      ]
     },
     "execution_count": 6,
     "metadata": {},
     "output_type": "execute_result"
    }
   ],
   "source": [
    "obj.a_method()\n",
    "obj.b_method()"
   ]
  },
  {
   "cell_type": "markdown",
   "id": "b5fed955-8d4d-4c4f-83d4-ec8696c077e1",
   "metadata": {},
   "source": [
    "##### What are getter and setter in python? Create a class and create a getter and a setter method in this class."
   ]
  },
  {
   "cell_type": "code",
   "execution_count": 7,
   "id": "44075316-2cb6-4e28-9223-307c80961ec6",
   "metadata": {},
   "outputs": [],
   "source": [
    "# Getter and setter are the methods to get the attributes values and set the attributes values respectively.\n",
    "class test:\n",
    "    def set_age(self,age):\n",
    "        self.__age = age\n",
    "    def get_age(self):\n",
    "        return self.__age"
   ]
  },
  {
   "cell_type": "code",
   "execution_count": 8,
   "id": "3ddef812-42e1-489f-b796-869ac5b23bd3",
   "metadata": {},
   "outputs": [],
   "source": [
    "t1 = test()"
   ]
  },
  {
   "cell_type": "code",
   "execution_count": 9,
   "id": "84d3e5d8-e7e0-4a31-81b6-5fd19fa18275",
   "metadata": {},
   "outputs": [],
   "source": [
    "t1.set_age(22)"
   ]
  },
  {
   "cell_type": "code",
   "execution_count": 10,
   "id": "ef207a85-a587-42b7-b0e9-ea0e60062e9d",
   "metadata": {},
   "outputs": [
    {
     "data": {
      "text/plain": [
       "22"
      ]
     },
     "execution_count": 10,
     "metadata": {},
     "output_type": "execute_result"
    }
   ],
   "source": [
    "t1.get_age()"
   ]
  },
  {
   "cell_type": "code",
   "execution_count": 11,
   "id": "77ca992e-a5b7-45ae-89f9-0c57f6a26047",
   "metadata": {},
   "outputs": [
    {
     "data": {
      "text/plain": [
       "22"
      ]
     },
     "execution_count": 11,
     "metadata": {},
     "output_type": "execute_result"
    }
   ],
   "source": [
    "t1._test__age"
   ]
  },
  {
   "cell_type": "markdown",
   "id": "b84bb059-b7ce-477a-8b08-1d032ac8dee8",
   "metadata": {},
   "source": [
    "##### What is method overriding in python? Write a python code to demonstrate method overriding.\n",
    "##### When method name and parameters of a child class are same as the parents class, it is called Method Overriding. It defines the methods functionality. "
   ]
  },
  {
   "cell_type": "code",
   "execution_count": 12,
   "id": "2f87d9c9-12c4-45f1-a4d5-c87d99a8d8b8",
   "metadata": {},
   "outputs": [],
   "source": [
    "# Ex:\n",
    "import abc\n",
    "\n",
    "class parent:\n",
    "    @abc.abstractmethod\n",
    "    def hello(self):\n",
    "        pass\n",
    "    @abc.abstractmethod\n",
    "    def world(self):\n",
    "        pass"
   ]
  },
  {
   "cell_type": "code",
   "execution_count": 13,
   "id": "0e254715-1511-4bca-8212-2c118984da15",
   "metadata": {},
   "outputs": [],
   "source": [
    "class child(parent):\n",
    "    def hello(self):\n",
    "        return \"hello\"\n",
    "    def world(self):\n",
    "        return \"world\""
   ]
  },
  {
   "cell_type": "code",
   "execution_count": 14,
   "id": "747e285d-5070-4b79-9074-faeff0933c2c",
   "metadata": {},
   "outputs": [],
   "source": [
    "chld = child()"
   ]
  },
  {
   "cell_type": "code",
   "execution_count": 15,
   "id": "06658aac-3474-4452-8d71-413f384f24b3",
   "metadata": {},
   "outputs": [
    {
     "data": {
      "text/plain": [
       "'hello'"
      ]
     },
     "execution_count": 15,
     "metadata": {},
     "output_type": "execute_result"
    }
   ],
   "source": [
    "chld.hello()"
   ]
  },
  {
   "cell_type": "code",
   "execution_count": 16,
   "id": "d9b750c5-7459-4adc-88eb-37ffef02734d",
   "metadata": {},
   "outputs": [
    {
     "data": {
      "text/plain": [
       "'world'"
      ]
     },
     "execution_count": 16,
     "metadata": {},
     "output_type": "execute_result"
    }
   ],
   "source": [
    "chld.world()"
   ]
  },
  {
   "cell_type": "code",
   "execution_count": null,
   "id": "386e5123-e725-437f-b13f-791d2f85d996",
   "metadata": {},
   "outputs": [],
   "source": []
  }
 ],
 "metadata": {
  "kernelspec": {
   "display_name": "Python 3 (ipykernel)",
   "language": "python",
   "name": "python3"
  },
  "language_info": {
   "codemirror_mode": {
    "name": "ipython",
    "version": 3
   },
   "file_extension": ".py",
   "mimetype": "text/x-python",
   "name": "python",
   "nbconvert_exporter": "python",
   "pygments_lexer": "ipython3",
   "version": "3.10.8"
  }
 },
 "nbformat": 4,
 "nbformat_minor": 5
}

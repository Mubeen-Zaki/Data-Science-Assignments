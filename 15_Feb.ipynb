{
 "cells": [
  {
   "cell_type": "markdown",
   "id": "9ab17e4b-48fa-4a89-907e-98e81cbf0b07",
   "metadata": {},
   "source": [
    "##### 1) Multiprocessing : It is the mechanism of running multiple processes on multiple cores within a single thread.\n",
    "##### Uses :\n",
    "* It improves the overall performance of the program.\n",
    "* It reduces the load on a single core."
   ]
  },
  {
   "cell_type": "markdown",
   "id": "b2786672-c967-43b3-ac86-e5f02538305b",
   "metadata": {},
   "source": [
    "##### 2) Difference : Multithreading is the mechanism of running multiple threads within a single process whereas Multiprocessing refers to the running of multiple processes on multiple cores with a single thread."
   ]
  },
  {
   "cell_type": "code",
   "execution_count": 1,
   "id": "0d0dda53-f7bc-45a1-be85-b2340f9da223",
   "metadata": {},
   "outputs": [
    {
     "name": "stdout",
     "output_type": "stream",
     "text": [
      "This is the main prgm\n",
      "Not Even\n"
     ]
    }
   ],
   "source": [
    "# 3) Code :\n",
    "import multiprocessing\n",
    "\n",
    "def isEven(n):\n",
    "    if n % 2 == 0:\n",
    "        print(\"Even\")\n",
    "    else:\n",
    "        print(\"Not Even\")\n",
    "\n",
    "if __name__ == \"__main__\":\n",
    "    var = 5\n",
    "    m = multiprocessing.Process(target=isEven,args=(var,))\n",
    "    print(\"This is the main prgm\")\n",
    "    m.start()\n",
    "    m.join()"
   ]
  },
  {
   "cell_type": "markdown",
   "id": "fb36de45-e8c3-495d-901f-1c7d65264df6",
   "metadata": {},
   "source": [
    "##### 4) Multiprocessing Pool : It is a method in the multiprocessing module which creates a pool of or multiple processes.\n",
    "##### Use : To run multiple tasks concurrently within single thread."
   ]
  },
  {
   "cell_type": "markdown",
   "id": "fb9a9263-23d7-4e12-86ff-5fef11a56552",
   "metadata": {},
   "source": [
    "##### 5) A pool of worker processes can be created using the method 'Pool()' from the multiprocessing module. In the Pool() funtion, an argument of \"processes\" is passed which is the number of processes to be created. Ex :"
   ]
  },
  {
   "cell_type": "code",
   "execution_count": 16,
   "id": "fc172f25-dd9f-4dd1-a8af-2ffa243cd637",
   "metadata": {},
   "outputs": [
    {
     "name": "stdout",
     "output_type": "stream",
     "text": [
      "132\n",
      "\n",
      "\n"
     ]
    }
   ],
   "source": [
    "def test1(i):\n",
    "    print(i)\n",
    "\n",
    "if __name__==\"__main__\":\n",
    "    with multiprocessing.Pool(processes=5) as m:\n",
    "        m.map(test1,[1,2,3])"
   ]
  },
  {
   "cell_type": "code",
   "execution_count": 12,
   "id": "d47f7e6f-c2cb-4003-a8d3-27b4bdf5e6fc",
   "metadata": {},
   "outputs": [
    {
     "name": "stdout",
     "output_type": "stream",
     "text": [
      "5419\n",
      "\n",
      "\n",
      "\n"
     ]
    }
   ],
   "source": [
    "# 6) Code :\n",
    "import multiprocessing\n",
    "\n",
    "def test(n):\n",
    "    print(n)\n",
    "\n",
    "if __name__ == \"__main__\":\n",
    "    with multiprocessing.Pool(processes = 4) as m:\n",
    "        m.map(test,[5,4,9,1])"
   ]
  },
  {
   "cell_type": "code",
   "execution_count": null,
   "id": "245e64f0-d648-4147-aff3-1283ffd50236",
   "metadata": {},
   "outputs": [],
   "source": []
  }
 ],
 "metadata": {
  "kernelspec": {
   "display_name": "Python 3 (ipykernel)",
   "language": "python",
   "name": "python3"
  },
  "language_info": {
   "codemirror_mode": {
    "name": "ipython",
    "version": 3
   },
   "file_extension": ".py",
   "mimetype": "text/x-python",
   "name": "python",
   "nbconvert_exporter": "python",
   "pygments_lexer": "ipython3",
   "version": "3.10.8"
  }
 },
 "nbformat": 4,
 "nbformat_minor": 5
}

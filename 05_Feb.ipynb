{
 "cells": [
  {
   "cell_type": "markdown",
   "id": "bfc06718-bbb6-4fdf-9f8b-c1260ed80a41",
   "metadata": {},
   "source": [
    "##### Explain Class and Object with respect to Object-Oriented Programming. Give a suitable example.\n",
    "##### A class is like a blue print or template of objects. And Objects are the representation of real world entities. They are the combinations of data or properties and code or methods.\n",
    "##### Ex : Car is a class and swift is an object of class car"
   ]
  },
  {
   "cell_type": "code",
   "execution_count": 3,
   "id": "43765952-1af4-407c-ad8a-59ce3f485175",
   "metadata": {},
   "outputs": [],
   "source": [
    "class car:\n",
    "    def __init__(self,speed,gears,cc):\n",
    "        self.speed = speed\n",
    "        self.gears = gears\n",
    "        self.cc = cc\n",
    "    def details(self):\n",
    "        return self.speed,self.gears,self.cc"
   ]
  },
  {
   "cell_type": "code",
   "execution_count": 4,
   "id": "0ea04188-95db-4952-8fec-66f2ee227e2f",
   "metadata": {},
   "outputs": [
    {
     "data": {
      "text/plain": [
       "(120, 6, 800)"
      ]
     },
     "execution_count": 4,
     "metadata": {},
     "output_type": "execute_result"
    }
   ],
   "source": [
    "swift = car(120,6,800)\n",
    "swift.details()"
   ]
  },
  {
   "cell_type": "markdown",
   "id": "cfde0d8f-c72e-42dc-aed6-d233ae76bcbe",
   "metadata": {},
   "source": [
    "##### Name the four pillars of OOPs.\n",
    "##### Polymorphism, Encapsulation, Inheritance and Abstraction."
   ]
  },
  {
   "cell_type": "markdown",
   "id": "4d132cb4-9c70-43f4-80f3-48befd5a5bb9",
   "metadata": {},
   "source": [
    "##### Explain why the __init__() function is used. Give a suitable example.\n",
    "##### __init__() is the constructor of a class, which initializes the properties of an object of a class.\n",
    "##### Ex : "
   ]
  },
  {
   "cell_type": "code",
   "execution_count": 9,
   "id": "4d9fa1d9-b9b4-4758-97f7-e803574a0028",
   "metadata": {},
   "outputs": [],
   "source": [
    "class student:\n",
    "    def __init__(self,name,no):\n",
    "        self.name = name\n",
    "        self.no = no\n",
    "    def details(self):\n",
    "        return self.name,self.no"
   ]
  },
  {
   "cell_type": "code",
   "execution_count": 10,
   "id": "a9303455-4077-46a9-acc3-aad5961d061d",
   "metadata": {},
   "outputs": [
    {
     "data": {
      "text/plain": [
       "('abc', 1)"
      ]
     },
     "execution_count": 10,
     "metadata": {},
     "output_type": "execute_result"
    }
   ],
   "source": [
    "s1 = student(\"abc\",1)\n",
    "s1.details()"
   ]
  },
  {
   "cell_type": "markdown",
   "id": "ef69b186-03a3-4a17-b9bd-7f74c87dda43",
   "metadata": {},
   "source": [
    "##### Why self is used in OOPs?\n",
    "##### self is a referential variable which binds the methods to its class and when an object is created of the class it binds the properties and methods to that object of the class. It is not a keyword, any variable can be used instead of self but it is standard to use so."
   ]
  },
  {
   "cell_type": "markdown",
   "id": "108260b1-197c-4e34-8b86-613ff9e631cb",
   "metadata": {},
   "source": [
    "##### What is inheritance? Give an example for each type of inheritance.\n",
    "##### Inheritance is one of the basic pillars of OOPS which allows the child class to inherit parent class properties. Its types are:"
   ]
  },
  {
   "cell_type": "code",
   "execution_count": 11,
   "id": "aa640b00-ee44-45f4-9ba5-bc37f6e4b4f0",
   "metadata": {},
   "outputs": [
    {
     "data": {
      "text/plain": [
       "'hello'"
      ]
     },
     "execution_count": 11,
     "metadata": {},
     "output_type": "execute_result"
    }
   ],
   "source": [
    "# Single Inheritance : one class inherits another class\n",
    "class one:\n",
    "    def details(self):\n",
    "        return \"hello\"\n",
    "class two(one):\n",
    "    pass\n",
    "test = two()\n",
    "test.details()"
   ]
  },
  {
   "cell_type": "code",
   "execution_count": 14,
   "id": "143345a0-7701-41b6-8207-197edd5d647c",
   "metadata": {},
   "outputs": [],
   "source": [
    "# Multi level inheritance : class b inherits class a, class c inherits class b, then class c inherits class a too\n",
    "class a:\n",
    "    def t1(self):\n",
    "        return \"hello\"\n",
    "class b(a):\n",
    "    def t2(self):\n",
    "        return \"world\"\n",
    "class c(b):\n",
    "    pass\n",
    "test = c()"
   ]
  },
  {
   "cell_type": "code",
   "execution_count": 15,
   "id": "91618041-eef7-4ce2-a71f-9c067255839f",
   "metadata": {},
   "outputs": [
    {
     "data": {
      "text/plain": [
       "'hello'"
      ]
     },
     "execution_count": 15,
     "metadata": {},
     "output_type": "execute_result"
    }
   ],
   "source": [
    "test.t1()"
   ]
  },
  {
   "cell_type": "code",
   "execution_count": 16,
   "id": "e566c081-16c5-4929-b3bf-5cc1c909e1d8",
   "metadata": {},
   "outputs": [
    {
     "data": {
      "text/plain": [
       "'world'"
      ]
     },
     "execution_count": 16,
     "metadata": {},
     "output_type": "execute_result"
    }
   ],
   "source": [
    "test.t2()"
   ]
  },
  {
   "cell_type": "code",
   "execution_count": 17,
   "id": "833381cb-7c36-43e3-a94b-d39d0641a147",
   "metadata": {},
   "outputs": [
    {
     "data": {
      "text/plain": [
       "'world'"
      ]
     },
     "execution_count": 17,
     "metadata": {},
     "output_type": "execute_result"
    }
   ],
   "source": [
    "# Multiple Inheritance : a class inherits from multiple classes\n",
    "class d():\n",
    "    def details(self):\n",
    "        return \"hello\"\n",
    "class e():\n",
    "    def msg(self):\n",
    "        return \"world\"\n",
    "class f(d,e):\n",
    "    pass\n",
    "test1 = f()\n",
    "test1.details()\n",
    "test1.msg()"
   ]
  },
  {
   "cell_type": "code",
   "execution_count": null,
   "id": "946f900e-b5a7-4261-8497-968367d65c43",
   "metadata": {},
   "outputs": [],
   "source": []
  }
 ],
 "metadata": {
  "kernelspec": {
   "display_name": "Python 3 (ipykernel)",
   "language": "python",
   "name": "python3"
  },
  "language_info": {
   "codemirror_mode": {
    "name": "ipython",
    "version": 3
   },
   "file_extension": ".py",
   "mimetype": "text/x-python",
   "name": "python",
   "nbconvert_exporter": "python",
   "pygments_lexer": "ipython3",
   "version": "3.10.8"
  }
 },
 "nbformat": 4,
 "nbformat_minor": 5
}

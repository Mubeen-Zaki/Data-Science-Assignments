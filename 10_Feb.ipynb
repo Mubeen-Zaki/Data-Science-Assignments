{
 "cells": [
  {
   "cell_type": "markdown",
   "id": "9ba4879b-391f-4b86-870d-0c6457c94ffe",
   "metadata": {},
   "source": [
    "##### 1) open() is used to open a file. A file can be opened in 3 different modes: read(r),write(w) and append(a). Ex:"
   ]
  },
  {
   "cell_type": "code",
   "execution_count": 1,
   "id": "2fcfd11b-d59d-4eb6-a563-7a3bfd5d11fe",
   "metadata": {},
   "outputs": [],
   "source": [
    "# f = open(\"test.txt\",\"w\")\n",
    "# The above w mode will open the file in a writing mode"
   ]
  },
  {
   "cell_type": "code",
   "execution_count": 2,
   "id": "438367f5-5976-4f2d-b68b-97f11a6e3766",
   "metadata": {},
   "outputs": [],
   "source": [
    "#f.write(\"hello world!\")\n",
    "# Writing something in the .txt file"
   ]
  },
  {
   "cell_type": "code",
   "execution_count": 3,
   "id": "e336dbc5-49dd-49f7-beb2-98f273b64e97",
   "metadata": {},
   "outputs": [],
   "source": [
    "#f.close()\n",
    "# Closing the file so that the changes are reflected"
   ]
  },
  {
   "cell_type": "code",
   "execution_count": 4,
   "id": "8d90ce86-4449-4b4b-aae1-666049e4d1e6",
   "metadata": {},
   "outputs": [],
   "source": [
    "# data = open(\"test.txt\",\"r\")\n",
    "# data.read()\n",
    "# Opened file in reading mode and read the chars sequence as a string"
   ]
  },
  {
   "cell_type": "code",
   "execution_count": 5,
   "id": "e6aa52e5-8be3-41e7-a319-b8e3cd788016",
   "metadata": {},
   "outputs": [],
   "source": [
    "# f = open(\"test.txt\",\"a\")\n",
    "# f.write(\"\\n Bye World!\")\n",
    "# Appended the existing file by adding a new line"
   ]
  },
  {
   "cell_type": "markdown",
   "id": "730ed5dd-3575-4144-ad98-ecb8c46079ba",
   "metadata": {},
   "source": [
    "##### 2) close() is important because the changes made to the file by performing read/write operations using file variable will not be reflected in the file until the file opened as a variable object is closed."
   ]
  },
  {
   "cell_type": "code",
   "execution_count": 6,
   "id": "72a6f22a-1192-4a99-b224-d3da7547e58e",
   "metadata": {},
   "outputs": [
    {
     "data": {
      "text/plain": [
       "33"
      ]
     },
     "execution_count": 6,
     "metadata": {},
     "output_type": "execute_result"
    }
   ],
   "source": [
    "# 3) Code:\n",
    "f = open(\"test.txt\",\"w\")\n",
    "f.write(\"I want to become a Data Scientist\")"
   ]
  },
  {
   "cell_type": "code",
   "execution_count": 7,
   "id": "3e654ead-e435-460a-bdcb-2b698cda38b0",
   "metadata": {},
   "outputs": [],
   "source": [
    "f.close()"
   ]
  },
  {
   "cell_type": "code",
   "execution_count": 8,
   "id": "221e5e26-36aa-4d35-8075-ee181e8b365b",
   "metadata": {},
   "outputs": [
    {
     "name": "stdout",
     "output_type": "stream",
     "text": [
      "I want to become a Data Scientist\n"
     ]
    }
   ],
   "source": [
    "with open(\"test.txt\",\"r\") as f:\n",
    "    print(f.read())"
   ]
  },
  {
   "cell_type": "code",
   "execution_count": 15,
   "id": "78df86d9-f1a1-4cf6-b369-3f8b56919030",
   "metadata": {},
   "outputs": [],
   "source": [
    "# 4) \n",
    "f = open(\"test.txt\",\"r\")"
   ]
  },
  {
   "cell_type": "code",
   "execution_count": 16,
   "id": "04563e04-7e8e-4435-8c2a-925cda37286b",
   "metadata": {},
   "outputs": [
    {
     "data": {
      "text/plain": [
       "'I want to become a Data Scientist'"
      ]
     },
     "execution_count": 16,
     "metadata": {},
     "output_type": "execute_result"
    }
   ],
   "source": [
    "# read() - reads all the chars from the file\n",
    "f.read()"
   ]
  },
  {
   "cell_type": "code",
   "execution_count": 17,
   "id": "008599b9-14df-44c2-97f6-a5b5d52ee7ca",
   "metadata": {},
   "outputs": [
    {
     "data": {
      "text/plain": [
       "0"
      ]
     },
     "execution_count": 17,
     "metadata": {},
     "output_type": "execute_result"
    }
   ],
   "source": [
    "f.seek(0)"
   ]
  },
  {
   "cell_type": "code",
   "execution_count": 19,
   "id": "2a537909-4f9b-40c7-b53d-3bf54eb56bfc",
   "metadata": {},
   "outputs": [
    {
     "data": {
      "text/plain": [
       "'I want to become a Data Scientist'"
      ]
     },
     "execution_count": 19,
     "metadata": {},
     "output_type": "execute_result"
    }
   ],
   "source": [
    "# readline() : reads all the chars from a line\n",
    "f.readline()"
   ]
  },
  {
   "cell_type": "code",
   "execution_count": 21,
   "id": "c2c0f3e3-6738-4b65-ab51-f581e5ba3acc",
   "metadata": {},
   "outputs": [
    {
     "data": {
      "text/plain": [
       "0"
      ]
     },
     "execution_count": 21,
     "metadata": {},
     "output_type": "execute_result"
    }
   ],
   "source": [
    "f.seek(0)"
   ]
  },
  {
   "cell_type": "code",
   "execution_count": 22,
   "id": "4333f07f-0bee-4928-8217-915a93e44fc0",
   "metadata": {},
   "outputs": [
    {
     "data": {
      "text/plain": [
       "['I want to become a Data Scientist']"
      ]
     },
     "execution_count": 22,
     "metadata": {},
     "output_type": "execute_result"
    }
   ],
   "source": [
    "# readlines(): returns all the lines as strings in a list\n",
    "f.readlines()"
   ]
  },
  {
   "cell_type": "markdown",
   "id": "ccecf9a1-10ce-445a-8e3b-b349730823a8",
   "metadata": {},
   "source": [
    "##### 5) Using 'with' stmt with open(), the file can be opened in different modes(r,w,a) in a file object and different read write operations can be performed within the 'with stmt' and file need not be closed using close() because the close() operation is automatically performed as the file object reaches the EOF."
   ]
  },
  {
   "cell_type": "code",
   "execution_count": 26,
   "id": "e8e4d991-e1cc-41b6-aa87-51b9459d33af",
   "metadata": {},
   "outputs": [],
   "source": [
    "#6) write(): it is used to write a string to the file. Ex:"
   ]
  },
  {
   "cell_type": "code",
   "execution_count": 27,
   "id": "1e100973-6ce6-49b1-a955-75d3e54b8925",
   "metadata": {},
   "outputs": [],
   "source": [
    "f = open(\"trial.txt\",\"w\")"
   ]
  },
  {
   "cell_type": "code",
   "execution_count": 28,
   "id": "a774d50b-d26a-4b02-b2c8-9dfb2a9b2131",
   "metadata": {},
   "outputs": [
    {
     "data": {
      "text/plain": [
       "5"
      ]
     },
     "execution_count": 28,
     "metadata": {},
     "output_type": "execute_result"
    }
   ],
   "source": [
    "f.write(\"Hello\")"
   ]
  },
  {
   "cell_type": "markdown",
   "id": "ae60a4f6-4c30-4ce4-bd0b-9ea5068de5ec",
   "metadata": {},
   "source": [
    "# writelines(): Used to "
   ]
  },
  {
   "cell_type": "code",
   "execution_count": 29,
   "id": "93c6ea2a-5148-4827-a545-a9c55047ad35",
   "metadata": {},
   "outputs": [],
   "source": [
    "f.writelines([\"World\",\"!\"])"
   ]
  }
 ],
 "metadata": {
  "kernelspec": {
   "display_name": "Python 3 (ipykernel)",
   "language": "python",
   "name": "python3"
  },
  "language_info": {
   "codemirror_mode": {
    "name": "ipython",
    "version": 3
   },
   "file_extension": ".py",
   "mimetype": "text/x-python",
   "name": "python",
   "nbconvert_exporter": "python",
   "pygments_lexer": "ipython3",
   "version": "3.10.8"
  }
 },
 "nbformat": 4,
 "nbformat_minor": 5
}

{
 "cells": [
  {
   "cell_type": "code",
   "execution_count": 12,
   "id": "225c8cd1-f11a-43a6-9bd5-94bf72b9582f",
   "metadata": {},
   "outputs": [],
   "source": [
    "# 1)\n",
    "def pswrd(password):\n",
    "    if len(password) == 10:\n",
    "        low = 0\n",
    "        upp = 0\n",
    "        num = 0\n",
    "        spch = 0\n",
    "        spchl = ['@','~','!','#','$','%','^','&','*','(',')','-','_','+','=']\n",
    "        for i in password:\n",
    "            if i.islower():\n",
    "                low += 1\n",
    "            elif i.isupper():\n",
    "                upp += 1\n",
    "            elif i in spchl:\n",
    "                spch += 1\n",
    "            elif type(int(i)) == int:\n",
    "                num += 1\n",
    "        if low >= 2 and upp >= 2 and num >= 1 and spch == 3:\n",
    "            return \"Valid Password\"\n",
    "        else:\n",
    "            return \"Invalid Password\"\n",
    "    else:\n",
    "        return \"Invalid Password\""
   ]
  },
  {
   "cell_type": "code",
   "execution_count": 18,
   "id": "e4c04866-16ca-49d0-837a-f2380c0affed",
   "metadata": {},
   "outputs": [
    {
     "name": "stdout",
     "output_type": "stream",
     "text": [
      "Valid Password\n",
      "Invalid Password\n"
     ]
    }
   ],
   "source": [
    "print(pswrd(\"hElL!@#123\"))\n",
    "print(pswrd(\"hElL!#a0bc\"))"
   ]
  },
  {
   "cell_type": "code",
   "execution_count": 1,
   "id": "13a4071d-60cf-4003-9526-9efaf7272e9c",
   "metadata": {},
   "outputs": [],
   "source": [
    "# 2)\n",
    "# Check if the string starts with a particular letter\n",
    "func = lambda s : \"String starts with 'a'\" if s[0] == 'a' else \"String doesn't start with 'a'\""
   ]
  },
  {
   "cell_type": "code",
   "execution_count": 3,
   "id": "37cdbd8a-9bc3-40dd-be83-857d2139cab6",
   "metadata": {},
   "outputs": [
    {
     "data": {
      "text/plain": [
       "\"String doesn't start with 'a'\""
      ]
     },
     "execution_count": 3,
     "metadata": {},
     "output_type": "execute_result"
    }
   ],
   "source": [
    "func(\"an apple\")\n",
    "func(\"ball\")"
   ]
  },
  {
   "cell_type": "code",
   "execution_count": 1,
   "id": "07f2e937-0d2f-452f-bbcc-de5b16183396",
   "metadata": {},
   "outputs": [],
   "source": [
    "#  Check if the string is numeric\n",
    "func1 = lambda s : \"Numeric\" if s.isnumeric() else \"Not numeric\""
   ]
  },
  {
   "cell_type": "code",
   "execution_count": 2,
   "id": "4aed0cba-b812-4c7e-86f9-3f4f9b0f549b",
   "metadata": {},
   "outputs": [
    {
     "name": "stdout",
     "output_type": "stream",
     "text": [
      "Not numeric\n",
      "Numeric\n"
     ]
    }
   ],
   "source": [
    "print(func1(\"hello\"))\n",
    "print(func1(\"123\"))"
   ]
  },
  {
   "cell_type": "code",
   "execution_count": 14,
   "id": "870d30a1-4caf-40d5-a1e7-0961f1b1d808",
   "metadata": {},
   "outputs": [],
   "source": [
    "# Sort a list of tuples having fruit names and their quantity. [(\"mango\",99),(\"orange\",80), (\"grapes\", 1000)]\n",
    "l =  [(\"mango\",99),(\"orange\",80), (\"grapes\", 1000)]\n",
    "func2 = lambda s : s.sort()"
   ]
  },
  {
   "cell_type": "code",
   "execution_count": 16,
   "id": "07910856-c7b8-4a29-9355-a77f8f643327",
   "metadata": {},
   "outputs": [
    {
     "data": {
      "text/plain": [
       "[('grapes', 1000), ('mango', 99), ('orange', 80)]"
      ]
     },
     "execution_count": 16,
     "metadata": {},
     "output_type": "execute_result"
    }
   ],
   "source": [
    "func2(l)\n",
    "l"
   ]
  },
  {
   "cell_type": "code",
   "execution_count": 29,
   "id": "68c20d49-3b44-4982-9cb0-de3a67ffdaff",
   "metadata": {},
   "outputs": [
    {
     "name": "stdout",
     "output_type": "stream",
     "text": [
      "[1, 4, 9, 16, 25, 36, 49, 64, 81, 100]\n"
     ]
    },
    {
     "data": {
      "text/plain": [
       "[1, 4, 9, 16, 25, 36, 49, 64, 81, 100]"
      ]
     },
     "execution_count": 29,
     "metadata": {},
     "output_type": "execute_result"
    }
   ],
   "source": [
    "#  Find the squares of numbers from 1 to 10\n",
    "print([i*i for i in range(1,11)])\n",
    "l = [i for i in range(1,11)]\n",
    "list(map(lambda x : x*x,l))"
   ]
  },
  {
   "cell_type": "code",
   "execution_count": 30,
   "id": "2ed6ff9c-d34f-48d7-8895-99097afa0cba",
   "metadata": {},
   "outputs": [
    {
     "data": {
      "text/plain": [
       "[1.0,\n",
       " 1.2599210498948732,\n",
       " 1.4422495703074083,\n",
       " 1.5874010519681994,\n",
       " 1.7099759466766968,\n",
       " 1.8171205928321397,\n",
       " 1.912931182772389,\n",
       " 2.0,\n",
       " 2.080083823051904,\n",
       " 2.154434690031884]"
      ]
     },
     "execution_count": 30,
     "metadata": {},
     "output_type": "execute_result"
    }
   ],
   "source": [
    "# Find the cube root of numbers from 1 to 10\n",
    "import math\n",
    "list(map(lambda x : math.pow(x,(1 / 3)),l))"
   ]
  },
  {
   "cell_type": "code",
   "execution_count": 31,
   "id": "4c88a0ac-8efb-4c10-84fe-155d869e2a80",
   "metadata": {},
   "outputs": [
    {
     "name": "stdout",
     "output_type": "stream",
     "text": [
      "odd\n",
      "even\n"
     ]
    }
   ],
   "source": [
    "# Check if a given number is even\n",
    "func3 = lambda x : \"even\" if x % 2 == 0 else \"odd\"\n",
    "print(func3(5))\n",
    "print(func3(4))"
   ]
  },
  {
   "cell_type": "code",
   "execution_count": 35,
   "id": "7c80cb74-50a8-420f-8ca8-d133ec14f63c",
   "metadata": {},
   "outputs": [
    {
     "data": {
      "text/plain": [
       "[2, 4, 6, 8, 10]"
      ]
     },
     "execution_count": 35,
     "metadata": {},
     "output_type": "execute_result"
    }
   ],
   "source": [
    "#  Filter odd numbers from the given list.\n",
    "\n",
    "l = [1,2,3,4,5,6,7,8,9,10]\n",
    "list(filter(lambda x : x if x % 2 == 0 else None,l))"
   ]
  },
  {
   "cell_type": "code",
   "execution_count": 40,
   "id": "b1d6f323-492a-4774-98d7-030ca3c51640",
   "metadata": {},
   "outputs": [
    {
     "name": "stdout",
     "output_type": "stream",
     "text": [
      "[1, 2, 3, 4, 5, 6]\n",
      "[-1, -2, -3, -4, -5]\n"
     ]
    }
   ],
   "source": [
    "# Sort a list of integers into positive and negative integers lists.\n",
    "\n",
    "l = [1,2,3,4,5,6,-1,-2,-3,-4,-5,0]\n",
    "print([i for i in l if i > 0])\n",
    "print([i for i in l if i < 0])"
   ]
  },
  {
   "cell_type": "code",
   "execution_count": null,
   "id": "2c4a9550-267d-446c-aba0-11304f41f37a",
   "metadata": {},
   "outputs": [],
   "source": []
  }
 ],
 "metadata": {
  "kernelspec": {
   "display_name": "Python 3 (ipykernel)",
   "language": "python",
   "name": "python3"
  },
  "language_info": {
   "codemirror_mode": {
    "name": "ipython",
    "version": 3
   },
   "file_extension": ".py",
   "mimetype": "text/x-python",
   "name": "python",
   "nbconvert_exporter": "python",
   "pygments_lexer": "ipython3",
   "version": "3.10.8"
  }
 },
 "nbformat": 4,
 "nbformat_minor": 5
}

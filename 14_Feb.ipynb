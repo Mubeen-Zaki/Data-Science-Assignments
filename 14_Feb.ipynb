{
 "cells": [
  {
   "cell_type": "markdown",
   "id": "e6d0de85-af19-44ec-ba15-c54c21f2449c",
   "metadata": {
    "tags": []
   },
   "source": [
    "##### 1) Multithreading : It is a mechanism to run multiple threads(lightweight processes that share the same resources of the process) within a single process.\n",
    "##### Use : It is used to improve the overall performance of the program and to achieve consecutive execution of multiple threads within the same process.\n",
    "##### Module : threading"
   ]
  },
  {
   "cell_type": "markdown",
   "id": "cb87b13b-7afc-4ace-b674-d5dc23f70e4c",
   "metadata": {},
   "source": [
    "##### 2) Threading module is used to handle threads as it provides functions that deals with multithreading operations.\n",
    "##### activeCount() : Returns the number of active threads.\n",
    "##### currentThread() : Returns the currently running thread.\n",
    "##### enumerate() : Returns a list of threads(active and dummy)."
   ]
  },
  {
   "cell_type": "markdown",
   "id": "d352851c-f0d8-427c-ae8c-b79d280a4099",
   "metadata": {},
   "source": [
    "##### 3) run() : It is the entry point for the thread of a process.\n",
    "##### start() : It starts the execution of the thread.\n",
    "##### join() : It waits for the complete execution of the thread before moving to the execution of the next instruction in the main program.\n",
    "##### isAlive() : It checks if the thread is alive / running or completed."
   ]
  },
  {
   "cell_type": "code",
   "execution_count": 26,
   "id": "f13afc36-af45-461f-a7cb-db5ecca9f403",
   "metadata": {},
   "outputs": [
    {
     "name": "stdout",
     "output_type": "stream",
     "text": [
      "[1, 4, 9, 16, 25]\n",
      "[1, 8, 27, 64, 125]\n"
     ]
    }
   ],
   "source": [
    "# 4) Code :\n",
    "import threading\n",
    "\n",
    "def function(l,power):\n",
    "    new_l = [i ** power for i in l]\n",
    "    print(new_l)\n",
    "    \n",
    "l = [[i for i in range(1,6)], [i for i in range(1,6)]]\n",
    "power = [2,3]\n",
    "\n",
    "thread = [threading.Thread(target=function,args=(l[i],power[i])) for i in range(len(l))]\n",
    "\n",
    "for t in thread:\n",
    "    t.start()"
   ]
  },
  {
   "cell_type": "markdown",
   "id": "f7ae3291-36a5-45f4-b5b8-1804278c153d",
   "metadata": {},
   "source": [
    "##### 5) Pros :\n",
    "* Multiple tasks can be done simultaneously.\n",
    "* Resource Sharing.\n",
    "* Efficient utilization of memory and processors.\n",
    "* Overall performance improvements.\n",
    "##### Cons :\n",
    "* Synchronization is complex.\n",
    "* Debugging is difficult.\n",
    "* Memory and resources issues like deadlock, etc."
   ]
  },
  {
   "cell_type": "markdown",
   "id": "516c95a0-6fb8-451f-8f8c-070c427a0883",
   "metadata": {},
   "source": [
    "##### 6) Deadlocks : It is a condition when a thread A having access to resource i and waiting for access to resource j is in loop with a thread B which has the access locked to resource j and waiting for resource i.\n",
    "\n",
    "##### Race Condition : It is a condition that appears when two or more threads sharing access to the resources and variables proceeds to their executions according to their schedule but it might lead to overwriting of variables leading to unexpected outcomes."
   ]
  },
  {
   "cell_type": "code",
   "execution_count": null,
   "id": "7ad80804-aa74-4465-8273-73f78295662f",
   "metadata": {},
   "outputs": [],
   "source": []
  }
 ],
 "metadata": {
  "kernelspec": {
   "display_name": "Python 3 (ipykernel)",
   "language": "python",
   "name": "python3"
  },
  "language_info": {
   "codemirror_mode": {
    "name": "ipython",
    "version": 3
   },
   "file_extension": ".py",
   "mimetype": "text/x-python",
   "name": "python",
   "nbconvert_exporter": "python",
   "pygments_lexer": "ipython3",
   "version": "3.10.8"
  }
 },
 "nbformat": 4,
 "nbformat_minor": 5
}

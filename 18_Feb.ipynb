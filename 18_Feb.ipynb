{
 "cells": [
  {
   "cell_type": "markdown",
   "id": "08a2c75d-a7fb-48f6-9e71-4f955e966355",
   "metadata": {},
   "source": [
    "##### 1) API(Application Programming Interface): It is a communication medium for two applications or programs with a set of rules for communication known as protocols(HTTP, SMTP, etc).\n",
    "##### Use: Mobile Banking -> The android app communicates with the bank's server via the API endpoints for banking operations like balance enquiry, transactions, etc."
   ]
  },
  {
   "cell_type": "markdown",
   "id": "7bd451c9-39ac-4908-a91f-cff25eac656b",
   "metadata": {},
   "source": [
    "##### 2) Advantages:\n",
    "1. Simplicity\n",
    "2. Scalability\n",
    "3. Flexibility\n",
    "4. Resuablity\n",
    "5. Interoperability between heterogeneous systems\n",
    "###### Disadvantages:\n",
    "1. Dependency on multiple services\n",
    "2. Security issues\n",
    "3. Limited Control"
   ]
  },
  {
   "cell_type": "markdown",
   "id": "9d288824-4f4f-4e15-8814-114872092acc",
   "metadata": {},
   "source": [
    "##### 3) Web API: It is a communication medium with protocols(HTTP) between a program/application and a online hosted resource like a database, server,etc.\n",
    "##### Difference: \n",
    "1. API is used for interaction between 2 programs whereas Web API is a subset of it.\n",
    "2. Web API uses only HTTP protocol, whereas API uses HTTP, SMTP, TCP/IP etc protocols."
   ]
  },
  {
   "cell_type": "markdown",
   "id": "f696cc7d-f60f-4605-b33e-e71d143aea0d",
   "metadata": {},
   "source": [
    "##### 4) REST Architecture: It is a web-service based architecture which uses Client-Server architecture. It uses HTTP protocol(GET,PUT,POST,DELETE).\n",
    "##### SOAP Architecture: It is a web-service based architecture which uses XML for communication and the protocols are defined using WSDL.\n",
    "##### Cons of SOAP:\n",
    "1. Increased Complexity\n",
    "2. No human readability"
   ]
  },
  {
   "cell_type": "markdown",
   "id": "73c5f7cb-1894-416e-ad0f-429d033c0ed5",
   "metadata": {},
   "source": [
    "##### 5) Differences:\n",
    "| SOAP | REST |\n",
    "| --- | --- |\n",
    "|Uses XML, WSDL | Uses HTTP protocol |\n",
    "|Complex | Simple, Flexible and Scalable |\n",
    "|Provides more data security | Provides basic security|\n",
    "|Web and non-web apps | Only Web app|"
   ]
  },
  {
   "cell_type": "code",
   "execution_count": null,
   "id": "aeb4555a-4d2d-4e91-b7a3-79e2e3b343ce",
   "metadata": {},
   "outputs": [],
   "source": []
  }
 ],
 "metadata": {
  "kernelspec": {
   "display_name": "Python 3 (ipykernel)",
   "language": "python",
   "name": "python3"
  },
  "language_info": {
   "codemirror_mode": {
    "name": "ipython",
    "version": 3
   },
   "file_extension": ".py",
   "mimetype": "text/x-python",
   "name": "python",
   "nbconvert_exporter": "python",
   "pygments_lexer": "ipython3",
   "version": "3.10.8"
  }
 },
 "nbformat": 4,
 "nbformat_minor": 5
}

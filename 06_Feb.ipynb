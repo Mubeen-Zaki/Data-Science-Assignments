{
 "cells": [
  {
   "cell_type": "code",
   "execution_count": 95,
   "id": "1a47a93d-93a8-4f46-9ea6-3498c90a3c13",
   "metadata": {},
   "outputs": [],
   "source": [
    "# 1)\n",
    "list1 = [1,2,3,4, [44,55,66, True], False, (34,56,78,89,34), {1,2,3,3,2,1}, {1:34, \"key2\": [55, 67, 78, 89], 4: (45,22, 61, 34)}, [56, 'data science'], 'Machine Learning']"
   ]
  },
  {
   "cell_type": "code",
   "execution_count": 96,
   "id": "8e58a632-7be6-4066-98db-97e2e4293501",
   "metadata": {},
   "outputs": [],
   "source": [
    "def func(l):\n",
    "    flat_list = []\n",
    "    product = 1\n",
    "    for i in l:\n",
    "        if type(i) == list or type(i) == tuple or type(i) == set:\n",
    "            for j in i:\n",
    "                flat_list.append(j)\n",
    "        elif type(i) == dict:\n",
    "            for j in i.items():\n",
    "                for k in j:\n",
    "                    if type(k) == list or type(k) == tuple:\n",
    "                        for m in k:\n",
    "                            flat_list.append(m)\n",
    "                    else:\n",
    "                        flat_list.append(k)\n",
    "        else:\n",
    "            flat_list.append(i)\n",
    "    for i in flat_list:\n",
    "        if type(i) == int or type(i) == float:\n",
    "            product = product * i\n",
    "    return product"
   ]
  },
  {
   "cell_type": "code",
   "execution_count": 97,
   "id": "a4eafef3-e52f-4d22-b8b8-1db57a723cc6",
   "metadata": {},
   "outputs": [
    {
     "name": "stdout",
     "output_type": "stream",
     "text": [
      "4134711838987085478833841242112000\n"
     ]
    },
    {
     "data": {
      "text/plain": [
       "True"
      ]
     },
     "execution_count": 97,
     "metadata": {},
     "output_type": "execute_result"
    }
   ],
   "source": [
    "print(func(list1))\n",
    "func(list1) == 1 * 2 *3*4 *44*55*66 *34*56*78*89*34*1*2*3*1 *1*34 *55*67* 78*89* 4*45*22*61*34*56"
   ]
  },
  {
   "cell_type": "code",
   "execution_count": 98,
   "id": "0df628df-bd0b-4700-9697-836da90582df",
   "metadata": {},
   "outputs": [],
   "source": [
    "# 2)\n",
    "msg = \"I want to become a Data Scientist.\""
   ]
  },
  {
   "cell_type": "code",
   "execution_count": 86,
   "id": "4f8c11da-d6e6-4034-b10b-c965f0d91676",
   "metadata": {},
   "outputs": [],
   "source": [
    "def encrypt(msg):\n",
    "    import string\n",
    "    ordered_list = list(string.ascii_lowercase)\n",
    "    reversed_list = list(string.ascii_lowercase)\n",
    "    reversed_list.reverse()\n",
    "    rev_msg = \"\"\n",
    "    for i in msg.lower():\n",
    "        if i == '.' or i == ',' or i == '!' or i == ':' or i == ';':\n",
    "            rev_msg += i\n",
    "        elif i == ' ':\n",
    "            rev_msg += '$'\n",
    "        else:\n",
    "            index = ordered_list.index(i)\n",
    "            rev_msg += reversed_list[index]\n",
    "    return rev_msg"
   ]
  },
  {
   "cell_type": "code",
   "execution_count": null,
   "id": "37a91b63-2386-41d6-b7db-ce237188a863",
   "metadata": {},
   "outputs": [],
   "source": [
    "rev = \"\"\n",
    "rev + '"
   ]
  },
  {
   "cell_type": "code",
   "execution_count": 87,
   "id": "524ba27e-0901-455b-a8ed-909fa149d21a",
   "metadata": {},
   "outputs": [
    {
     "data": {
      "text/plain": [
       "'r$dzmg$gl$yvxlnv$z$wzgz$hxrvmgrhg.'"
      ]
     },
     "execution_count": 87,
     "metadata": {},
     "output_type": "execute_result"
    }
   ],
   "source": [
    "encrypt(msg)"
   ]
  }
 ],
 "metadata": {
  "kernelspec": {
   "display_name": "Python 3 (ipykernel)",
   "language": "python",
   "name": "python3"
  },
  "language_info": {
   "codemirror_mode": {
    "name": "ipython",
    "version": 3
   },
   "file_extension": ".py",
   "mimetype": "text/x-python",
   "name": "python",
   "nbconvert_exporter": "python",
   "pygments_lexer": "ipython3",
   "version": "3.10.8"
  }
 },
 "nbformat": 4,
 "nbformat_minor": 5
}

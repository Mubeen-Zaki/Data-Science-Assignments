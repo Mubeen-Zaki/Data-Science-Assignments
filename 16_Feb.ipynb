{
 "cells": [
  {
   "cell_type": "markdown",
   "id": "39116b1e-fdc5-4bf0-9669-6f3eac4505b6",
   "metadata": {},
   "source": [
    "##### 1) Database : A database is a system which stores tables (data stored as rows in columns) and provides data querying and manipulation functionalities.\n",
    "##### SQL(Structured Query Language) : It provides communication with structured/organized data i.e., relational database.\n",
    "##### NoSQL(Not Only SQL) : It provides communication for both structured and unstructed data i.e., both relational and non-relational database."
   ]
  },
  {
   "cell_type": "markdown",
   "id": "24223782-25ae-48b6-9ff5-7d6301d0c7d0",
   "metadata": {},
   "source": [
    "##### 2) DDL(Data Definition Language) : It comprises of commands to create, define, modify and drop or truncate table. Ex : CREATE, ALTER, DROP, TRUNCATE statements.\n",
    "##### CREATE TABLE TEST (C1 INTEGER, C2 VARCHAR(20), C2 FLOAT); # Creates a table with the name test and columns as mentioned with the given data types.\n",
    "##### ALTER TABLE TEST ADD COLUMN C4 CHAR; # Adds a new column c4 to the test table.\n",
    "##### TRUNCATE TABLE TEST; # Empties the table test.\n",
    "##### DROP TABLE TEST; # Deletes the table completely."
   ]
  },
  {
   "cell_type": "markdown",
   "id": "b239c547-5bb3-4c86-a1ca-f2a249763517",
   "metadata": {},
   "source": [
    "##### 3) DML(Data Manipulation Language) : It comprises of commands to perform insert, update and delete operations on the table. Ex : INSERT, UPDATE, DELETE statements.\n",
    "##### INSERT INTO TEST VALUES (1,2,'A'); # Inserts the entry into the table.\n",
    "##### UPDATE TEST SET COLUMN ID = 2 WHERE NAME = 'A'; # Updates the table as per the condition of the WHERE clause.\n",
    "##### DELETE FROM TEST WHERE ID = 2; # Empties the table test."
   ]
  },
  {
   "cell_type": "markdown",
   "id": "33fc0e9d-ffd6-48f9-8314-89fe33ffff64",
   "metadata": {},
   "source": [
    "##### 4) DQL(Data Query Language) : It is used to get and organize data from the tables from the relational database. Ex : SELECT statement.\n",
    "##### SELECT * FROM TEST; # Selects all the columns and rows from the table."
   ]
  },
  {
   "cell_type": "markdown",
   "id": "a0c3bbe6-60e9-4814-902e-0d72186b7be3",
   "metadata": {},
   "source": [
    "##### 5) Primary Key : It is the unique key in a table which uniquely identifies all the rows of that table.\n",
    "##### Foreign Key : It is the unique key in different table-x which links to the table-y in the relational database."
   ]
  },
  {
   "cell_type": "code",
   "execution_count": null,
   "id": "18c1f4f1-33af-4d42-8d5c-896cb13382f0",
   "metadata": {},
   "outputs": [],
   "source": [
    "# 6) Code :\n",
    "import mysql.connector\n",
    "\n",
    "connection = mysql.connector.connect(host=\"localhost\",user=\"abc\",password=\"password\")\n",
    "cursor = connection.cursor() # cursor() : It creates a access point to execute queries over the established connection to the database.\n",
    "cursor.execute('CREATE TABLE IF NOT EXISTS TEST (ID INTEGER, NAME CHAR);') # execute() : It is used to execute the SQL query on the connected database.\n",
    "\n",
    "cursor.close()\n",
    "connection.close()"
   ]
  },
  {
   "cell_type": "markdown",
   "id": "dc2b58e0-8f46-4933-8ade-eb46e90dba06",
   "metadata": {},
   "source": [
    "##### 7) Order of execution of SQL Clauses in an SQL query : \n",
    "1. FROM\t\n",
    "2. WHERE\t\n",
    "3. GROUP BY\t\n",
    "4. HAVING\t\n",
    "5. SELECT\t\n",
    "6. ORDER BY\n",
    "7. LIMIT"
   ]
  },
  {
   "cell_type": "code",
   "execution_count": null,
   "id": "7fa37b3a-1ef2-4aab-b7c1-2ff08678ca91",
   "metadata": {},
   "outputs": [],
   "source": []
  }
 ],
 "metadata": {
  "kernelspec": {
   "display_name": "Python 3 (ipykernel)",
   "language": "python",
   "name": "python3"
  },
  "language_info": {
   "codemirror_mode": {
    "name": "ipython",
    "version": 3
   },
   "file_extension": ".py",
   "mimetype": "text/x-python",
   "name": "python",
   "nbconvert_exporter": "python",
   "pygments_lexer": "ipython3",
   "version": "3.10.8"
  }
 },
 "nbformat": 4,
 "nbformat_minor": 5
}
